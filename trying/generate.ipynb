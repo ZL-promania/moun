{
 "cells": [
  {
   "cell_type": "code",
   "execution_count": 1,
   "metadata": {},
   "outputs": [
    {
     "data": {
      "text/plain": [
       "Traceback (most recent call last):\n",
       "  File \"/usr/lib/python3/dist-packages/numpy/core/__init__.py\", line 17, in <module>\n",
       "    from . import multiarray\n",
       "  File \"/usr/lib/python3/dist-packages/numpy/core/multiarray.py\", line 14, in <module>\n",
       "    from . import overrides\n",
       "  File \"/usr/lib/python3/dist-packages/numpy/core/overrides.py\", line 7, in <module>\n",
       "    from numpy.core._multiarray_umath import (\n",
       "ModuleNotFoundError: No module named 'numpy.core._multiarray_umath'\n",
       "\n",
       "During handling of the above exception, another exception occurred:\n",
       "\n",
       "Traceback (most recent call last):\n",
       "  File \"/home/zl/.vscode-server/extensions/ms-python.python-2024.22.2-linux-x64/python_files/python_server.py\", line 133, in exec_user_input\n",
       "    retval = callable_(user_input, user_globals)\n",
       "  File \"<string>\", line 2, in <module>\n",
       "  File \"/usr/lib/python3/dist-packages/numpy/__init__.py\", line 142, in <module>\n",
       "    from . import core\n",
       "  File \"/usr/lib/python3/dist-packages/numpy/core/__init__.py\", line 47, in <module>\n",
       "    raise ImportError(msg)\n",
       "ImportError: \n",
       "\n",
       "IMPORTANT: PLEASE READ THIS FOR ADVICE ON HOW TO SOLVE THIS ISSUE!\n",
       "\n",
       "Importing the numpy c-extensions failed.\n",
       "- Try uninstalling and reinstalling numpy.\n",
       "- If you have already done that, then:\n",
       "  1. Check that you expected to use Python3.9 from \"/bin/python3.9\",\n",
       "     and that you have no directories in your PATH or PYTHONPATH that can\n",
       "     interfere with the Python and numpy version \"1.17.4\" you're trying to use.\n",
       "  2. If (1) looks fine, you can open a new issue at\n",
       "     https://github.com/numpy/numpy/issues.  Please include details on:\n",
       "     - how you installed Python\n",
       "     - how you installed numpy\n",
       "     - your operating system\n",
       "     - whether or not you have multiple versions of Python installed\n",
       "     - if you built from source, your compiler versions and ideally a build log\n",
       "\n",
       "- If you're working with a numpy git repository, try `git clean -xdf`\n",
       "  (removes all files not under version control) and rebuild numpy.\n",
       "\n",
       "Note: this error has many possible causes, so please don't comment on\n",
       "an existing issue about this - open a new one instead.\n",
       "\n",
       "Original error was: No module named 'numpy.core._multiarray_umath'\n",
       "\n",
       "\n"
      ]
     },
     "metadata": {},
     "output_type": "display_data"
    }
   ],
   "source": [
    "import sys\n",
    "import numpy as np\n",
    "\n",
    "sys.path.append(\"/home/wxy/Program/veto_eff/build/\")  # 添加编译生成的模块的路径\n",
    "import mu_sim\n",
    "from deprecate.muon_Gen import energy\n",
    "\n"
   ]
  }
 ],
 "metadata": {
  "kernelspec": {
   "display_name": "pyroot",
   "language": "python",
   "name": "python3"
  },
  "language_info": {
   "codemirror_mode": {
    "name": "ipython",
    "version": 3
   },
   "file_extension": ".py",
   "mimetype": "text/x-python",
   "name": "python",
   "nbconvert_exporter": "python",
   "pygments_lexer": "ipython3",
   "version": "3.12.8"
  }
 },
 "nbformat": 4,
 "nbformat_minor": 2
}
